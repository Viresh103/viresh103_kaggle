{
 "cells": [
  {
   "cell_type": "code",
   "execution_count": null,
   "metadata": {},
   "outputs": [],
   "source": [
    "import pandas as pd\n",
    "import numpy as np\n",
    "import gc\n",
    "# from itertools import product\n",
    "# import matplotlib.pyplot as plt\n",
    "# %matplotlib inline \n",
    "\n",
    "pd.set_option('display.max_rows', 600)\n",
    "pd.set_option('display.max_columns', 50)\n",
    "\n",
    "# from itertools import product\n"
   ]
  },
  {
   "cell_type": "code",
   "execution_count": null,
   "metadata": {},
   "outputs": [],
   "source": [
    "all_data=pd.read_csv('all_data2.csv')"
   ]
  },
  {
   "cell_type": "code",
   "execution_count": null,
   "metadata": {},
   "outputs": [],
   "source": [
    "all_data.head()"
   ]
  },
  {
   "cell_type": "markdown",
   "metadata": {},
   "source": [
    "## validation"
   ]
  },
  {
   "cell_type": "code",
   "execution_count": null,
   "metadata": {},
   "outputs": [],
   "source": [
    "dates = all_data['date_block_num']\n",
    "\n",
    "trainx = all_data.loc[dates<33].drop(['target'], axis=1)\n",
    "testx =  all_data.loc[dates==33 ].drop(['target'], axis=1)\n",
    "trainy = all_data.loc[dates<33 ,'target']\n",
    "testy=all_data.loc[dates==33,'target']\n",
    "\n",
    "del all_data"
   ]
  },
  {
   "cell_type": "markdown",
   "metadata": {},
   "source": [
    "## linear regression model"
   ]
  },
  {
   "cell_type": "code",
   "execution_count": null,
   "metadata": {},
   "outputs": [],
   "source": [
    "from tqdm import tqdm\n",
    "from sklearn.linear_model import LinearRegression\n",
    "lr = LinearRegression(normalize=True)\n",
    "\n",
    "for i in tqdm(range(10425)):\n",
    "    lr.fit(trainx.loc[i*1024:(i+1)*1024,:].values, trainy.loc[i*1024:(i+1)*1024].values)\n",
    "\n",
    "lr.fit(trainx.loc[10675200:,:].values,trainy.loc[10675200:].values)\n",
    "# lr.fit(trainx,trainy)\n",
    "pred_lr = lr.predict(testx.values)"
   ]
  },
  {
   "cell_type": "markdown",
   "metadata": {},
   "source": [
    "## lgb model"
   ]
  },
  {
   "cell_type": "code",
   "execution_count": null,
   "metadata": {},
   "outputs": [],
   "source": [
    "lgb_params = {\n",
    "               'feature_fraction': 0.75,\n",
    "               'metric': 'rmse',\n",
    "               'nthread':1, \n",
    "               'min_data_in_leaf': 2**7, \n",
    "               'bagging_fraction': 0.75, \n",
    "               'learning_rate': 0.1, \n",
    "               'bagging_seed': 2**7, \n",
    "               'num_leaves': 2**7,\n",
    "               'bagging_freq':1,\n",
    "               'verbose':0 \n",
    "              }\n",
    "\n",
    "\n",
    "model = lgb.train(lgb_params, train_set=lgb.Dataset(trainx, label=trainy),valid_sets=lgb.Dataset(testx, label=testy), num_boost_round=1000)\n",
    "\n",
    "\n"
   ]
  },
  {
   "cell_type": "code",
   "execution_count": null,
   "metadata": {},
   "outputs": [],
   "source": [
    "from sklearn.metrics import mean_squared_error\n",
    "from math import sqrt\n",
    "print('Test  for LightGBM is %f' % sqrt(mean_squared_error(testy, pred_lgb)))"
   ]
  },
  {
   "cell_type": "markdown",
   "metadata": {},
   "source": [
    "## training and prediction"
   ]
  },
  {
   "cell_type": "code",
   "execution_count": null,
   "metadata": {},
   "outputs": [],
   "source": [
    "x_train=all_data.drop(['target'], axis=1)\n",
    "y_train=all_data.loc[:,'target']"
   ]
  },
  {
   "cell_type": "code",
   "execution_count": null,
   "metadata": {},
   "outputs": [],
   "source": [
    "xtrain.head()"
   ]
  },
  {
   "cell_type": "code",
   "execution_count": null,
   "metadata": {},
   "outputs": [],
   "source": [
    "test=pd.read_csv('modified_test.csv')\n",
    "Ids=test['ID']\n",
    "test=test.drop(['ID'],axis=1)"
   ]
  },
  {
   "cell_type": "code",
   "execution_count": null,
   "metadata": {},
   "outputs": [],
   "source": [
    "len(x_train)"
   ]
  },
  {
   "cell_type": "code",
   "execution_count": null,
   "metadata": {},
   "outputs": [],
   "source": [
    "from tqdm import tqdm\n",
    "from sklearn.linear_model import LinearRegression\n",
    "lr = LinearRegression()\n",
    "for i in tqdm(range(10658)):\n",
    "    lr.fit(x_train.loc[i*1024:(i+1)*1024,:].values, y_train.loc[i*1024:(i+1)*1024].values)\n",
    "    \n",
    "lr.fit(x_train.loc[10913270:10913850,:].values,y_train.loc[10913270:10913850].values)\n",
    "pred_lr = lr.predict(test.values)"
   ]
  },
  {
   "cell_type": "code",
   "execution_count": null,
   "metadata": {},
   "outputs": [],
   "source": [
    "# model = lgb.train(lgb_params, lgb.Dataset(x_train, label=y_train), 1000)\n",
    "pred_lgb=model.predict(test.values)"
   ]
  },
  {
   "cell_type": "code",
   "execution_count": null,
   "metadata": {},
   "outputs": [],
   "source": [
    "##scaling \n",
    "\n",
    "Min=pred_lgb.min()\n",
    "Max=pred_lgb.max()\n",
    "\n",
    "pred_lgb=((pred_lgb-Min)/(Max-Min))*20"
   ]
  },
  {
   "cell_type": "code",
   "execution_count": null,
   "metadata": {},
   "outputs": [],
   "source": [
    "Ids=pd.DataFrame(data=Ids,columns=['ID'])\n",
    "\n",
    "pred_lr=pd.DataFrame(data=pred_lgb,columns=['item_cnt_month'])\n",
    "\n",
    "result=pd.concat([Ids,pred_lr],axis=1)\n",
    "\n",
    "result.to_csv('submission16.csv',index=False)"
   ]
  }
 ],
 "metadata": {
  "kernelspec": {
   "display_name": "Python 3",
   "language": "python",
   "name": "python3"
  },
  "language_info": {
   "codemirror_mode": {
    "name": "ipython",
    "version": 3
   },
   "file_extension": ".py",
   "mimetype": "text/x-python",
   "name": "python",
   "nbconvert_exporter": "python",
   "pygments_lexer": "ipython3",
   "version": "3.7.3"
  }
 },
 "nbformat": 4,
 "nbformat_minor": 2
}
